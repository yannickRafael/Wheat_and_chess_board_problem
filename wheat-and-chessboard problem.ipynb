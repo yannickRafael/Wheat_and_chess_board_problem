{
 "cells": [
  {
   "cell_type": "markdown",
   "metadata": {},
   "source": [
    "## Wheat and chess board problem"
   ]
  },
  {
   "cell_type": "markdown",
   "metadata": {},
   "source": [
    "#### Sample Code"
   ]
  },
  {
   "cell_type": "code",
   "execution_count": 53,
   "metadata": {
    "ExecuteTime": {
     "end_time": "2023-10-26T15:29:39.664224600Z",
     "start_time": "2023-10-26T15:29:39.565419300Z"
    }
   },
   "outputs": [
    {
     "name": "stdout",
     "output_type": "stream",
     "text": [
      "Arrange wheat on a plate of 4 squares (list): [1, 2, 4, 8]\n",
      "Arrange wheat on a plate of 4 squares (ndarray): [1 2 4 8]\n"
     ]
    }
   ],
   "source": [
    "import numpy as np\n",
    "\n",
    "n_squares = 4\n",
    "small_board_list = [1]\n",
    "for _ in range(n_squares - 1):\n",
    "    small_board_list.append(2*small_board_list[-1])\n",
    "print(\"Arrange wheat on a plate of 4 squares (list): {}\".format(small_board_list))\n",
    "\n",
    "small_board_ndarray = np.array(small_board_list)\n",
    "print(\"Arrange wheat on a plate of 4 squares (ndarray): {}\".format(small_board_ndarray))"
   ]
  },
  {
   "cell_type": "markdown",
   "metadata": {},
   "source": [
    "### Problem 1: Number of wheat on a 2 x 2 square chess board\n"
   ]
  },
  {
   "cell_type": "code",
   "execution_count": 54,
   "metadata": {
    "ExecuteTime": {
     "end_time": "2023-10-26T15:29:39.728466Z",
     "start_time": "2023-10-26T15:29:39.586804500Z"
    }
   },
   "outputs": [
    {
     "name": "stdout",
     "output_type": "stream",
     "text": [
      "[[1 2]\n",
      " [4 8]]\n"
     ]
    }
   ],
   "source": [
    "from numpy import ndarray\n",
    "\n",
    "def reshape_ndarray_to(_new_shape: tuple, _ndarray: ndarray) -> ndarray:\n",
    "    return _ndarray.reshape(_new_shape)\n",
    "\n",
    "print(reshape_ndarray_to((2,2), small_board_ndarray))"
   ]
  },
  {
   "cell_type": "markdown",
   "metadata": {},
   "source": [
    "### Problem 2: Expansion to n × m mass"
   ]
  },
  {
   "cell_type": "code",
   "execution_count": 55,
   "metadata": {
    "ExecuteTime": {
     "end_time": "2023-10-26T15:29:39.766343500Z",
     "start_time": "2023-10-26T15:29:39.623706600Z"
    }
   },
   "outputs": [
    {
     "name": "stdout",
     "output_type": "stream",
     "text": [
      "[  1.   2.   4.   8.  16.  32.  64. 128.]\n",
      "[  256.   512.  1024.  2048.  4096.  8192. 16384. 32768.]\n",
      "[  65536.  131072.  262144.  524288. 1048576. 2097152. 4194304. 8388608.]\n",
      "[1.67772160e+07 3.35544320e+07 6.71088640e+07 1.34217728e+08\n",
      " 2.68435456e+08 5.36870912e+08 1.07374182e+09 2.14748365e+09]\n",
      "[4.29496730e+09 8.58993459e+09 1.71798692e+10 3.43597384e+10\n",
      " 6.87194767e+10 1.37438953e+11 2.74877907e+11 5.49755814e+11]\n",
      "[1.09951163e+12 2.19902326e+12 4.39804651e+12 8.79609302e+12\n",
      " 1.75921860e+13 3.51843721e+13 7.03687442e+13 1.40737488e+14]\n",
      "[2.81474977e+14 5.62949953e+14 1.12589991e+15 2.25179981e+15\n",
      " 4.50359963e+15 9.00719925e+15 1.80143985e+16 3.60287970e+16]\n",
      "[7.20575940e+16 1.44115188e+17 2.88230376e+17 5.76460752e+17\n",
      " 1.15292150e+18 2.30584301e+18 4.61168602e+18 9.22337204e+18]\n"
     ]
    }
   ],
   "source": [
    "def generate_board(_board_shape: tuple) -> ndarray:\n",
    "    _board = np.array([1], dtype=np.float64) # The second argument helps to solve the following error \"RuntimeWarning: overflow encountered in long_scalars\"\n",
    "    for i in range(_board_shape[0] * _board_shape[1] - 1):\n",
    "        _board = np.append(_board, [_board[-1] * 2])\n",
    "    return _board.reshape(_board_shape)\n",
    "\n",
    "board = generate_board(_board_shape=(8, 8))\n",
    "for row in board:\n",
    "    print(row)"
   ]
  },
  {
   "cell_type": "markdown",
   "metadata": {},
   "source": [
    "### Problem 3: Total number of wheat"
   ]
  },
  {
   "cell_type": "markdown",
   "metadata": {},
   "source": [
    "##### Total number of wheat"
   ]
  },
  {
   "cell_type": "code",
   "execution_count": 56,
   "metadata": {
    "ExecuteTime": {
     "end_time": "2023-10-26T15:29:39.770127500Z",
     "start_time": "2023-10-26T15:29:39.648552900Z"
    }
   },
   "outputs": [
    {
     "name": "stdout",
     "output_type": "stream",
     "text": [
      "The total number of wheat is: 1.8446744073709552e+19\n"
     ]
    }
   ],
   "source": [
    "total_number_of_wheat = np.sum(board)\n",
    "print(f\"The total number of wheat is: {total_number_of_wheat}\")"
   ]
  },
  {
   "cell_type": "markdown",
   "metadata": {},
   "source": [
    "##### Average wheat in each column"
   ]
  },
  {
   "cell_type": "code",
   "execution_count": 57,
   "metadata": {
    "ExecuteTime": {
     "end_time": "2023-10-26T15:29:39.770127500Z",
     "start_time": "2023-10-26T15:29:39.680638900Z"
    }
   },
   "outputs": [
    {
     "name": "stdout",
     "output_type": "stream",
     "text": [
      "The wheat average by column is [9.04252160e+15 1.80850432e+16 3.61700864e+16 7.23401728e+16\n",
      " 1.44680346e+17 2.89360691e+17 5.78721383e+17 1.15744277e+18]\n"
     ]
    }
   ],
   "source": [
    "def compute_column_average(_column_index: int, _board: ndarray): # '_board' must be 2D\n",
    "    _column_elements: ndarray = np.array([])\n",
    "    for row in _board:\n",
    "        # print(row[_column_index])\n",
    "        _column_elements = np.append(_column_elements, [row[_column_index]])\n",
    "    return np.mean(_column_elements)\n",
    "\n",
    "def compute_average_by_column(_board: ndarray) -> ndarray:\n",
    "    _num_of_columns = _board.shape[0]\n",
    "    _average_by_column: ndarray = np.array([])\n",
    "    for _column in range(_num_of_columns):\n",
    "        # print(_column)\n",
    "        _average_by_column = np.append(_average_by_column, [compute_column_average(_column, _board)])\n",
    "    return _average_by_column\n",
    "\n",
    "average_wheat_by_column = compute_average_by_column(board)\n",
    "print(f\"The wheat average by column is {average_wheat_by_column}\")"
   ]
  },
  {
   "cell_type": "markdown",
   "metadata": {},
   "source": [
    "##### Plottig the average wheat in each column of the board"
   ]
  },
  {
   "cell_type": "code",
   "execution_count": 58,
   "metadata": {
    "ExecuteTime": {
     "end_time": "2023-10-26T15:29:39.980446500Z",
     "start_time": "2023-10-26T15:29:39.701361700Z"
    }
   },
   "outputs": [
    {
     "data": {
      "image/png": "[encoded data removed]",
      "text/plain": [
       "<Figure size 640x480 with 1 Axes>"
      ]
     },
     "metadata": {},
     "output_type": "display_data"
    }
   ],
   "source": [
    "import matplotlib.pyplot as plt\n",
    "%matplotlib inline\n",
    "\n",
    "plt.xlabel(\"column\")\n",
    "plt.ylabel(\"number\")\n",
    "plt.title(\"number in each column\")\n",
    "plt.bar(np.arange(1, 9), average_wheat_by_column)\n",
    "plt.show()"
   ]
  },
  {
   "cell_type": "markdown",
   "metadata": {},
   "source": [
    "### Problem 4: Heat map of the number of wheat"
   ]
  },
  {
   "cell_type": "code",
   "execution_count": 59,
   "metadata": {
    "ExecuteTime": {
     "end_time": "2023-10-26T15:29:40.202367Z",
     "start_time": "2023-10-26T15:29:39.980446500Z"
    }
   },
   "outputs": [
    {
     "data": {
      "image/png": "[encoded data removed]",
      "text/plain": [
       "<Figure size 640x480 with 1 Axes>"
      ]
     },
     "metadata": {},
     "output_type": "display_data"
    }
   ],
   "source": [
    "plt.xlabel(\"Columns\")\n",
    "plt.ylabel(\"Rows\")\n",
    "plt.title(\"Chessboard Heatmap\")\n",
    "plt.pcolor(board)\n",
    "plt.show()"
   ]
  },
  {
   "cell_type": "markdown",
   "metadata": {},
   "source": [
    "#### Problem 5: How many times is the second half as long as the first half?"
   ]
  },
  {
   "cell_type": "code",
   "execution_count": 60,
   "metadata": {
    "ExecuteTime": {
     "end_time": "2023-10-26T15:29:45.285000200Z",
     "start_time": "2023-10-26T15:29:45.267979Z"
    }
   },
   "outputs": [
    {
     "name": "stdout",
     "output_type": "stream",
     "text": [
      "The first board half size is 16777215.0\n",
      "The second board half size is 7.205758974296064e+16\n",
      "The second half is 4294967296.0 times larger than the first half\n"
     ]
    }
   ],
   "source": [
    "first_board_half = board[0:3]\n",
    "second_board_half = board[4:7]\n",
    "\n",
    "first_board_half_size = np.sum(first_board_half)\n",
    "second_board_half_size = np.sum(second_board_half)\n",
    "\n",
    "print(f\"The first board half size is {first_board_half_size}\")\n",
    "print(f\"The second board half size is {second_board_half_size}\")\n",
    "print(f\"The second half is {second_board_half_size / first_board_half_size} times larger than the first half\")\n"
   ]
  },
  {
   "cell_type": "markdown",
   "metadata": {},
   "source": [
    "#### Problem 6: Expansion to n × m mass by another calculation method"
   ]
  },
  {
   "cell_type": "code",
   "execution_count": 61,
   "metadata": {},
   "outputs": [],
   "source": [
    "# Using numpy broadcast to generate the board\n",
    "def generate_board1(_board_shape: tuple) -> np.ndarray:\n",
    "    indices = np.arange(_board_shape[0] * _board_shape[1])\n",
    "    _board = 2 ** indices\n",
    "    return _board.reshape(_board_shape)\n",
    "\n",
    "# Using numpy append to generate the board\n",
    "def generate_board2(_board_shape: tuple) -> np.ndarray:\n",
    "    _board = np.array([1], dtype=np.float64)\n",
    "    for i in range(_board_shape[0] * _board_shape[1] - 1):\n",
    "        _board = np.append(_board, [_board[-1] * 2])\n",
    "    return _board.reshape(_board_shape)\n"
   ]
  },
  {
   "cell_type": "markdown",
   "metadata": {},
   "source": [
    "#### Problem 7: Comparing calculation times"
   ]
  },
  {
   "cell_type": "code",
   "execution_count": 62,
   "metadata": {},
   "outputs": [
    {
     "name": "stdout",
     "output_type": "stream",
     "text": [
      "The time using numpy broadcast:\n",
      "3.3 µs ± 179 ns per loop (mean ± std. dev. of 7 runs, 100000 loops each)\n",
      "The time using numpy append:\n",
      "413 µs ± 36.1 µs per loop (mean ± std. dev. of 7 runs, 1000 loops each)\n"
     ]
    }
   ],
   "source": [
    "# Executing the functions multiple times to see the execution time using the magic command %timeit\n",
    "print(\"The time using numpy broadcast:\")\n",
    "%timeit generate_board1((8, 8))\n",
    "\n",
    "print(\"The time using numpy append:\")\n",
    "%timeit generate_board2((8, 8))\n"
   ]
  }
 ],
 "metadata": {
  "kernelspec": {
   "display_name": "Python 3",
   "language": "python",
   "name": "python3"
  },
  "language_info": {
   "codemirror_mode": {
    "name": "ipython",
    "version": 3
   },
   "file_extension": ".py",
   "mimetype": "text/x-python",
   "name": "python",
   "nbconvert_exporter": "python",
   "pygments_lexer": "ipython3",
   "version": "3.7.9"
  }
 },
 "nbformat": 4,
 "nbformat_minor": 2
}
