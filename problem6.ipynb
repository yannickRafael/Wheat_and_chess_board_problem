{
 "cells": [
  {
   "cell_type": "code",
   "execution_count": 1,
   "metadata": {},
   "outputs": [],
   "source": [
    "import numpy as np\n"
   ]
  },
  {
   "cell_type": "code",
   "execution_count": 2,
   "metadata": {},
   "outputs": [],
   "source": [
    "# Using numpy broadcast to generate the board\n",
    "def generate_board1(_board_shape: tuple) -> np.ndarray:\n",
    "    indices = np.arange(_board_shape[0] * _board_shape[1])\n",
    "    _board = 2 ** indices\n",
    "    return _board.reshape(_board_shape)\n",
    "\n",
    "# Using numpy append to generate the board\n",
    "def generate_board2(_board_shape: tuple) -> np.ndarray:\n",
    "    _board = np.array([1], dtype=np.float64)\n",
    "    for i in range(_board_shape[0] * _board_shape[1] - 1):\n",
    "        _board = np.append(_board, [_board[-1] * 2])\n",
    "    return _board.reshape(_board_shape)"
   ]
  }
 ],
 "metadata": {
  "kernelspec": {
   "display_name": "Python 3",
   "language": "python",
   "name": "python3"
  },
  "language_info": {
   "codemirror_mode": {
    "name": "ipython",
    "version": 3
   },
   "file_extension": ".py",
   "mimetype": "text/x-python",
   "name": "python",
   "nbconvert_exporter": "python",
   "pygments_lexer": "ipython3",
   "version": "3.10.12"
  }
 },
 "nbformat": 4,
 "nbformat_minor": 2
}
