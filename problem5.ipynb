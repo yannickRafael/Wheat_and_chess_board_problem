{
 "cells": [
  {
   "cell_type": "code",
   "execution_count": 4,
   "metadata": {},
   "outputs": [],
   "source": [
    "from numpy import ndarray\n",
    "import numpy as np\n",
    "import matplotlib.pyplot as plt"
   ]
  },
  {
   "cell_type": "code",
   "execution_count": 5,
   "metadata": {},
   "outputs": [],
   "source": [
    "def generate_board(_board_shape: tuple) -> ndarray:\n",
    "    _board = np.array([1], dtype=np.float64) \n",
    "    for i in range(_board_shape[0] * _board_shape[1] - 1):\n",
    "        _board = np.append(_board, [_board[-1] * 2])\n",
    "    return _board.reshape(_board_shape)"
   ]
  },
  {
   "cell_type": "code",
   "execution_count": 6,
   "metadata": {},
   "outputs": [
    {
     "name": "stdout",
     "output_type": "stream",
     "text": [
      "[[1.00000000e+00 2.00000000e+00 4.00000000e+00 8.00000000e+00\n",
      "  1.60000000e+01 3.20000000e+01 6.40000000e+01 1.28000000e+02]\n",
      " [2.56000000e+02 5.12000000e+02 1.02400000e+03 2.04800000e+03\n",
      "  4.09600000e+03 8.19200000e+03 1.63840000e+04 3.27680000e+04]\n",
      " [6.55360000e+04 1.31072000e+05 2.62144000e+05 5.24288000e+05\n",
      "  1.04857600e+06 2.09715200e+06 4.19430400e+06 8.38860800e+06]\n",
      " [1.67772160e+07 3.35544320e+07 6.71088640e+07 1.34217728e+08\n",
      "  2.68435456e+08 5.36870912e+08 1.07374182e+09 2.14748365e+09]\n",
      " [4.29496730e+09 8.58993459e+09 1.71798692e+10 3.43597384e+10\n",
      "  6.87194767e+10 1.37438953e+11 2.74877907e+11 5.49755814e+11]\n",
      " [1.09951163e+12 2.19902326e+12 4.39804651e+12 8.79609302e+12\n",
      "  1.75921860e+13 3.51843721e+13 7.03687442e+13 1.40737488e+14]\n",
      " [2.81474977e+14 5.62949953e+14 1.12589991e+15 2.25179981e+15\n",
      "  4.50359963e+15 9.00719925e+15 1.80143985e+16 3.60287970e+16]\n",
      " [7.20575940e+16 1.44115188e+17 2.88230376e+17 5.76460752e+17\n",
      "  1.15292150e+18 2.30584301e+18 4.61168602e+18 9.22337204e+18]]\n"
     ]
    }
   ],
   "source": [
    "board = generate_board(_board_shape=(8, 8))\n",
    "print(board)"
   ]
  },
  {
   "cell_type": "code",
   "execution_count": 7,
   "metadata": {},
   "outputs": [
    {
     "name": "stdout",
     "output_type": "stream",
     "text": [
      "The total number of wheat is: 1.8446744073709552e+19\n"
     ]
    }
   ],
   "source": [
    "total_number_of_wheat = np.sum(board)\n",
    "print(f\"The total number of wheat is: {total_number_of_wheat}\")"
   ]
  },
  {
   "cell_type": "code",
   "execution_count": 8,
   "metadata": {},
   "outputs": [],
   "source": [
    "def compute_column_average(_column_index: int, _board: ndarray): # '_board' must be 2D\n",
    "    _column_elements: ndarray = np.array([])\n",
    "    for row in _board:\n",
    "        # print(row[_column_index])\n",
    "        _column_elements = np.append(_column_elements, [row[_column_index]])\n",
    "    return np.mean(_column_elements)\n",
    "\n",
    "def compute_average_by_column(_board: ndarray) -> ndarray:\n",
    "    _num_of_columns = _board.shape[0]\n",
    "    _average_by_column: ndarray = np.array([])\n",
    "    for _column in range(_num_of_columns):\n",
    "        # print(_column)\n",
    "        _average_by_column = np.append(_average_by_column, [compute_column_average(_column, _board)])\n",
    "    return _average_by_column"
   ]
  },
  {
   "cell_type": "code",
   "execution_count": 9,
   "metadata": {},
   "outputs": [
    {
     "name": "stdout",
     "output_type": "stream",
     "text": [
      "The wheat average by column is [9.04252160e+15 1.80850432e+16 3.61700864e+16 7.23401728e+16\n",
      " 1.44680346e+17 2.89360691e+17 5.78721383e+17 1.15744277e+18]\n"
     ]
    }
   ],
   "source": [
    "average_wheat_by_column = compute_average_by_column(board)\n",
    "print(f\"The wheat average by column is {average_wheat_by_column}\")"
   ]
  },
  {
   "cell_type": "code",
   "execution_count": 10,
   "metadata": {},
   "outputs": [
    {
     "name": "stdout",
     "output_type": "stream",
     "text": [
      "The first board half size is 16777215.0\n",
      "The second board half size is 7.205758974296064e+16\n",
      "The second half is 4294967296.0\n"
     ]
    }
   ],
   "source": [
    "first_board_half = board[0:3]\n",
    "second_board_half = board[4:7]\n",
    "\n",
    "first_board_half_size = np.sum(first_board_half)\n",
    "second_board_half_size = np.sum(second_board_half)\n",
    "\n",
    "print(f\"The first board half size is {first_board_half_size}\")\n",
    "print(f\"The second board half size is {second_board_half_size}\")\n",
    "print(f\"The second half is {second_board_half_size / first_board_half_size}\") "
   ]
  },
  {
   "cell_type": "code",
   "execution_count": null,
   "metadata": {},
   "outputs": [],
   "source": []
  }
 ],
 "metadata": {
  "kernelspec": {
   "display_name": "Python 3",
   "language": "python",
   "name": "python3"
  },
  "language_info": {
   "codemirror_mode": {
    "name": "ipython",
    "version": 3
   },
   "file_extension": ".py",
   "mimetype": "text/x-python",
   "name": "python",
   "nbconvert_exporter": "python",
   "pygments_lexer": "ipython3",
   "version": "3.10.12"
  }
 },
 "nbformat": 4,
 "nbformat_minor": 2
}
